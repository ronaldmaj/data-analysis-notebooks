{
 "cells": [
  {
   "cell_type": "markdown",
   "metadata": {},
   "source": [
    "# Data scraping container imports/exports at POLA\n",
    "\n",
    "In this notebook, you will scrap container unit information from:\n",
    "https://www.portoflosangeles.org/business/statistics/container-statistics/historical-teu-statistics-2018\n",
    "ranging in years from 1996 to 2018\n",
    "\n",
    "After that, some initial exploratory data analysis is conducted "
   ]
  },
  {
   "cell_type": "code",
   "execution_count": 168,
   "metadata": {},
   "outputs": [],
   "source": [
    "from bs4 import BeautifulSoup\n",
    "from requests_html import HTMLSession\n",
    "import urllib.request\n",
    "import urllib.parse\n",
    "import requests\n",
    "import numpy as np\n",
    "import pandas as pd\n",
    "import time\n",
    "import matplotlib.pyplot as plt"
   ]
  },
  {
   "cell_type": "code",
   "execution_count": 2,
   "metadata": {},
   "outputs": [],
   "source": [
    "url2018 = 'https://www.portoflosangeles.org/business/statistics/container-statistics/historical-teu-statistics-2018'"
   ]
  },
  {
   "cell_type": "code",
   "execution_count": 3,
   "metadata": {},
   "outputs": [],
   "source": [
    "from requests_html import HTMLSession\n",
    "session = HTMLSession()\n",
    "\n",
    "r = session.get(url2018)"
   ]
  },
  {
   "cell_type": "code",
   "execution_count": 4,
   "metadata": {},
   "outputs": [],
   "source": [
    "soup_tree= BeautifulSoup(r.html.raw_html, 'html.parser')"
   ]
  },
  {
   "cell_type": "code",
   "execution_count": 5,
   "metadata": {},
   "outputs": [],
   "source": [
    "data_html2018 = soup_tree.find_all('td')"
   ]
  },
  {
   "cell_type": "code",
   "execution_count": 6,
   "metadata": {},
   "outputs": [
    {
     "data": {
      "text/plain": [
       "[<td align=\"center\" class=\"Categories_pad right_bar\" style=\"background-color: rgb(38, 100, 38);\" width=\"12%\"> </td>,\n",
       " <td align=\"center\" class=\"right_bar\" style=\"background-color: rgb(38, 100, 38);\" width=\"9%\">\n",
       " <p><span style=\"color: rgb(255, 255, 255);\">Loaded Imports</span></p>\n",
       " </td>,\n",
       " <td align=\"center\" class=\"right_bar\" style=\"background-color: rgb(38, 100, 38);\" width=\"8%\">\n",
       " <p><span style=\"color: rgb(255, 255, 255);\">Empty Imports</span></p>\n",
       " </td>,\n",
       " <td align=\"center\" class=\"right_bar\" style=\"background-color: rgb(38, 100, 38);\" width=\"9%\">\n",
       " <p><span style=\"color: rgb(255, 255, 255);\">Total Imports</span></p>\n",
       " </td>,\n",
       " <td align=\"center\" class=\"right_bar\" style=\"background-color: rgb(38, 100, 38);\" width=\"9%\">\n",
       " <p><span style=\"color: rgb(255, 255, 255);\">Loaded Exports</span></p>\n",
       " </td>,\n",
       " <td align=\"center\" class=\"right_bar\" style=\"background-color: rgb(38, 100, 38);\" width=\"8%\">\n",
       " <p><span style=\"color: rgb(255, 255, 255);\">Empty Exports</span></p>\n",
       " </td>,\n",
       " <td align=\"center\" class=\"right_bar\" style=\"background-color: rgb(38, 100, 38);\" width=\"9%\">\n",
       " <p><span style=\"color: rgb(255, 255, 255);\">Total Exports</span></p>\n",
       " </td>,\n",
       " <td align=\"center\" class=\"right_bar\" style=\"background-color: rgb(38, 100, 38);\" width=\"9%\">\n",
       " <p><span style=\"color: rgb(255, 255, 255);\">Total TEUs</span></p>\n",
       " </td>,\n",
       " <td align=\"center\" style=\"background-color: rgb(38, 100, 38);\" width=\"11%\">\n",
       " <p><span style=\"color: rgb(255, 255, 255);\">Prior Year Change</span></p>\n",
       " </td>,\n",
       " <td class=\"MonthRowOdd\">January</td>,\n",
       " <td align=\"center\">422,831.95</td>,\n",
       " <td align=\"center\">9,296.80</td>,\n",
       " <td align=\"center\">432,128.75</td>,\n",
       " <td align=\"center\">150,035.25</td>,\n",
       " <td align=\"center\">226,564.50</td>,\n",
       " <td align=\"center\">376,599.75</td>,\n",
       " <td align=\"center\">808,728.50</td>,\n",
       " <td align=\"center\">-2.17%</td>,\n",
       " <td class=\"MonthRowEven\">February</td>,\n",
       " <td align=\"center\">383,089.55</td>,\n",
       " <td align=\"center\">9,593.40</td>,\n",
       " <td align=\"center\">392,682.95</td>,\n",
       " <td align=\"center\">157,591.25</td>,\n",
       " <td align=\"center\">174,785.25</td>,\n",
       " <td align=\"center\">332,376.50</td>,\n",
       " <td align=\"center\">725,059.45</td>,\n",
       " <td align=\"center\">15.94%</td>,\n",
       " <td class=\"MonthRowOdd\">March</td>,\n",
       " <td align=\"center\">264,460.05</td>,\n",
       " <td align=\"center\">9,382.20</td>,\n",
       " <td align=\"center\">273,842.25</td>,\n",
       " <td align=\"center\">163,706.65</td>,\n",
       " <td align=\"center\">140,317.00</td>,\n",
       " <td align=\"center\">304,023.65</td>,\n",
       " <td align=\"center\">577,865.90</td>,\n",
       " <td align=\"center\">-26.72%</td>,\n",
       " <td class=\"MonthRowEven\">April</td>,\n",
       " <td align=\"center\">361,108.30</td>,\n",
       " <td align=\"center\"> 11,418.00 </td>,\n",
       " <td align=\"center\"> 372,526.30</td>,\n",
       " <td align=\"center\"> 164,703.65</td>,\n",
       " <td align=\"center\"> 168,306.00 </td>,\n",
       " <td align=\"center\">333,009.65</td>,\n",
       " <td align=\"center\"> 705,535.95</td>,\n",
       " <td align=\"center\">-1.29%</td>,\n",
       " <td class=\"MonthRowOdd\">May</td>,\n",
       " <td align=\"center\">405,586.80</td>,\n",
       " <td align=\"center\">11,785.80</td>,\n",
       " <td align=\"center\"> 417,372.60</td>,\n",
       " <td align=\"center\">168,680.75</td>,\n",
       " <td align=\"center\"> 182,751.00</td>,\n",
       " <td align=\"center\">351,431.75</td>,\n",
       " <td align=\"center\">768,804.35</td>,\n",
       " <td align=\"center\">-3.44%</td>,\n",
       " <td class=\"MonthRowEven\">June</td>,\n",
       " <td align=\"center\">382,964.00</td>,\n",
       " <td align=\"center\"> 10,401.15</td>,\n",
       " <td align=\"center\">393,365.15</td>,\n",
       " <td align=\"center\"> 147,563.25</td>,\n",
       " <td align=\"center\"> 182,212.75 </td>,\n",
       " <td align=\"center\">329,776.00</td>,\n",
       " <td align=\"center\">723,141.15</td>,\n",
       " <td align=\"center\">-1.08%</td>,\n",
       " <td class=\"MonthRowOdd\">July</td>,\n",
       " <td align=\"center\">438,164.55</td>,\n",
       " <td align=\"center\">16,517.05</td>,\n",
       " <td align=\"center\">454,681.60</td>,\n",
       " <td align=\"center\"> 167,991.75</td>,\n",
       " <td align=\"center\"> 210,894.50</td>,\n",
       " <td align=\"center\">378,886.25</td>,\n",
       " <td align=\"center\">833,567.85</td>,\n",
       " <td align=\"center\">4.61%</td>,\n",
       " <td class=\"MonthRowEven\">August</td>,\n",
       " <td align=\"center\">420,573.25</td>,\n",
       " <td align=\"center\">20,103.15</td>,\n",
       " <td align=\"center\">440,676.40</td>,\n",
       " <td align=\"center\">162,465.50</td>,\n",
       " <td align=\"center\">223,496.50</td>,\n",
       " <td align=\"center\">385,962.00</td>,\n",
       " <td align=\"center\">826,638.40</td>,\n",
       " <td align=\"center\">-2.50%</td>,\n",
       " <td class=\"MonthRowOdd\">September</td>,\n",
       " <td align=\"center\">414,281.50</td>,\n",
       " <td align=\"center\">17,028.90</td>,\n",
       " <td align=\"center\">431,310.40</td>,\n",
       " <td align=\"center\">146,999.50</td>,\n",
       " <td align=\"center\">222,954.25</td>,\n",
       " <td align=\"center\">369,953.75</td>,\n",
       " <td align=\"center\">801,264.15</td>,\n",
       " <td align=\"center\">4.91%</td>,\n",
       " <td class=\"MonthRowEven\">October</td>,\n",
       " <td align=\"center\">485,823.55</td>,\n",
       " <td align=\"center\">18,564.30</td>,\n",
       " <td align=\"center\">504,387.85</td>,\n",
       " <td align=\"center\">173,823.90</td>,\n",
       " <td align=\"center\">274,342.00</td>,\n",
       " <td align=\"center\">448,165.90</td>,\n",
       " <td align=\"center\">952,553.75</td>,\n",
       " <td align=\"center\">27.22%</td>,\n",
       " <td class=\"MonthRowOdd\">November</td>,\n",
       " <td align=\"center\">422,792.65</td>,\n",
       " <td align=\"center\">17,173.50</td>,\n",
       " <td align=\"center\">439,966.15</td>,\n",
       " <td align=\"center\">152,527.00</td>,\n",
       " <td align=\"center\">239,837.75</td>,\n",
       " <td align=\"center\">392,364.75</td>,\n",
       " <td align=\"center\">832,330.90</td>,\n",
       " <td align=\"center\">-9.94%</td>,\n",
       " <td class=\"MonthRowEven\">December</td>,\n",
       " <td align=\"center\">468,905.85</td>,\n",
       " <td align=\"center\">13,447.40</td>,\n",
       " <td align=\"center\">482,353.25</td>,\n",
       " <td align=\"center\">147,965.40</td>,\n",
       " <td align=\"center\">272,939.50</td>,\n",
       " <td align=\"center\">420,904.90</td>,\n",
       " <td align=\"center\">903,258.15</td>,\n",
       " <td align=\"center\">15.92%</td>,\n",
       " <td class=\"Totals1\">\n",
       " <p>Total Calendar Year 2018</p>\n",
       " </td>,\n",
       " <td align=\"center\">4,870,582.00</td>,\n",
       " <td align=\"center\">164,711.65</td>,\n",
       " <td align=\"center\">5,035,293.65</td>,\n",
       " <td align=\"center\">1,904,053.85</td>,\n",
       " <td align=\"center\">2,519,401.00</td>,\n",
       " <td align=\"center\">4,423,454.85</td>,\n",
       " <td align=\"center\">9,458,748.50</td>,\n",
       " <td align=\"center\">1.24%</td>,\n",
       " <td class=\"Totals2\">\n",
       " <p>Total Fiscal Year 2017/18</p>\n",
       " </td>,\n",
       " <td align=\"center\">4,690,848.55  </td>,\n",
       " <td align=\"center\">131,200.45</td>,\n",
       " <td align=\"center\">4,822,049.00</td>,\n",
       " <td align=\"center\">1,869,837.30</td>,\n",
       " <td align=\"center\">2,477,893.45</td>,\n",
       " <td align=\"center\"> 4,347,730.75</td>,\n",
       " <td align=\"center\">9,169,779.75</td>,\n",
       " <td align=\"center\"> -0.39%</td>,\n",
       " <td class=\"Totals3\">\n",
       " <p>Total Fiscal Year 2018/19</p>\n",
       " </td>,\n",
       " <td align=\"center\">2,650,541.35</td>,\n",
       " <td align=\"center\">102,834.30</td>,\n",
       " <td align=\"center\">2,753,375.65</td>,\n",
       " <td align=\"center\">951,773.05</td>,\n",
       " <td align=\"center\">1,444,464.50</td>,\n",
       " <td align=\"center\">2,396,237.55</td>,\n",
       " <td align=\"center\">5,149,613.20</td>,\n",
       " <td align=\"center\">5.95%</td>]"
      ]
     },
     "execution_count": 6,
     "metadata": {},
     "output_type": "execute_result"
    }
   ],
   "source": [
    "data_html2018"
   ]
  },
  {
   "cell_type": "code",
   "execution_count": 7,
   "metadata": {
    "scrolled": false
   },
   "outputs": [
    {
     "name": "stdout",
     "output_type": "stream",
     "text": [
      "['January']\n",
      "['422,831.95']\n",
      "['9,296.80']\n",
      "['432,128.75']\n",
      "['150,035.25']\n",
      "['226,564.50']\n",
      "['376,599.75']\n",
      "['808,728.50']\n",
      "['-2.17%']\n",
      "['February']\n",
      "['383,089.55']\n",
      "['9,593.40']\n",
      "['392,682.95']\n",
      "['157,591.25']\n",
      "['174,785.25']\n",
      "['332,376.50']\n",
      "['725,059.45']\n",
      "['15.94%']\n",
      "['March']\n",
      "['264,460.05']\n",
      "['9,382.20']\n",
      "['273,842.25']\n",
      "['163,706.65']\n",
      "['140,317.00']\n",
      "['304,023.65']\n",
      "['577,865.90']\n",
      "['-26.72%']\n",
      "['April']\n",
      "['361,108.30']\n",
      "['\\xa011,418.00\\xa0']\n",
      "['\\xa0372,526.30']\n",
      "['\\xa0164,703.65']\n",
      "['\\xa0168,306.00\\xa0']\n",
      "['333,009.65']\n",
      "['\\xa0705,535.95']\n",
      "['-1.29%']\n",
      "['May']\n",
      "['405,586.80']\n",
      "['11,785.80']\n",
      "['\\xa0417,372.60']\n",
      "['168,680.75']\n",
      "['\\xa0182,751.00']\n",
      "['351,431.75']\n",
      "['768,804.35']\n",
      "['-3.44%']\n",
      "['June']\n",
      "['382,964.00']\n",
      "['\\xa010,401.15']\n",
      "['393,365.15']\n",
      "['\\xa0147,563.25']\n",
      "['\\xa0182,212.75\\xa0']\n",
      "['329,776.00']\n",
      "['723,141.15']\n",
      "['-1.08%']\n",
      "['July']\n",
      "['438,164.55']\n",
      "['16,517.05']\n",
      "['454,681.60']\n",
      "['\\xa0167,991.75']\n",
      "['\\xa0210,894.50']\n",
      "['378,886.25']\n",
      "['833,567.85']\n",
      "['4.61%']\n",
      "['August']\n",
      "['420,573.25']\n",
      "['20,103.15']\n",
      "['440,676.40']\n",
      "['162,465.50']\n",
      "['223,496.50']\n",
      "['385,962.00']\n",
      "['826,638.40']\n",
      "['-2.50%']\n",
      "['September']\n",
      "['414,281.50']\n",
      "['17,028.90']\n",
      "['431,310.40']\n",
      "['146,999.50']\n",
      "['222,954.25']\n",
      "['369,953.75']\n",
      "['801,264.15']\n",
      "['4.91%']\n",
      "['October']\n",
      "['485,823.55']\n",
      "['18,564.30']\n",
      "['504,387.85']\n",
      "['173,823.90']\n",
      "['274,342.00']\n",
      "['448,165.90']\n",
      "['952,553.75']\n",
      "['27.22%']\n",
      "['November']\n",
      "['422,792.65']\n",
      "['17,173.50']\n",
      "['439,966.15']\n",
      "['152,527.00']\n",
      "['239,837.75']\n",
      "['392,364.75']\n",
      "['832,330.90']\n",
      "['-9.94%']\n",
      "['December']\n",
      "['468,905.85']\n",
      "['13,447.40']\n",
      "['482,353.25']\n",
      "['147,965.40']\n",
      "['272,939.50']\n",
      "['420,904.90']\n",
      "['903,258.15']\n",
      "['15.92%']\n",
      "['\\n', <p>Total Calendar Year 2018</p>, '\\n']\n",
      "['4,870,582.00']\n",
      "['164,711.65']\n",
      "['5,035,293.65']\n",
      "['1,904,053.85']\n",
      "['2,519,401.00']\n",
      "['4,423,454.85']\n",
      "['9,458,748.50']\n",
      "['1.24%']\n",
      "['\\n', <p>Total Fiscal Year 2017/18</p>, '\\n']\n",
      "['4,690,848.55\\xa0\\xa0']\n",
      "['131,200.45']\n",
      "['4,822,049.00']\n",
      "['1,869,837.30']\n",
      "['2,477,893.45']\n",
      "['\\xa04,347,730.75']\n",
      "['9,169,779.75']\n",
      "['\\xa0-0.39%']\n",
      "['\\n', <p>Total Fiscal Year 2018/19</p>, '\\n']\n",
      "['2,650,541.35']\n",
      "['102,834.30']\n",
      "['2,753,375.65']\n",
      "['951,773.05']\n",
      "['1,444,464.50']\n",
      "['2,396,237.55']\n",
      "['5,149,613.20']\n",
      "['5.95%']\n"
     ]
    }
   ],
   "source": [
    "for item in data_html2018[9:]:\n",
    "    print(item.contents)"
   ]
  },
  {
   "cell_type": "code",
   "execution_count": 31,
   "metadata": {},
   "outputs": [],
   "source": [
    "data_2018 = [(item.contents[0].string) for item in data_html2018[9:]]"
   ]
  },
  {
   "cell_type": "code",
   "execution_count": 33,
   "metadata": {},
   "outputs": [],
   "source": [
    "# Remove new line formating\n",
    "for i,item in enumerate(data_2018):\n",
    "    if item == '\\n':\n",
    "        data_2018.pop(i)"
   ]
  },
  {
   "cell_type": "code",
   "execution_count": 37,
   "metadata": {},
   "outputs": [],
   "source": [
    "# Remove commas in numbers:\n",
    "for i,item in enumerate(data_2018):\n",
    "    if ',' in item:\n",
    "        data_2018[i] = item.replace(',','')"
   ]
  },
  {
   "cell_type": "code",
   "execution_count": 65,
   "metadata": {},
   "outputs": [
    {
     "data": {
      "text/plain": [
       "'\\xa0168306.00\\xa0'"
      ]
     },
     "execution_count": 65,
     "metadata": {},
     "output_type": "execute_result"
    }
   ],
   "source": [
    "(data_2018[32])"
   ]
  },
  {
   "cell_type": "code",
   "execution_count": 54,
   "metadata": {
    "scrolled": false
   },
   "outputs": [
    {
     "data": {
      "text/plain": [
       "['January',\n",
       " '422831.95',\n",
       " '9296.80',\n",
       " '432128.75',\n",
       " '150035.25',\n",
       " '226564.50',\n",
       " '376599.75',\n",
       " '808728.50',\n",
       " '-2.17%',\n",
       " 'February',\n",
       " '383089.55',\n",
       " '9593.40',\n",
       " '392682.95',\n",
       " '157591.25',\n",
       " '174785.25',\n",
       " '332376.50',\n",
       " '725059.45',\n",
       " '15.94%',\n",
       " 'March',\n",
       " '264460.05',\n",
       " '9382.20',\n",
       " '273842.25',\n",
       " '163706.65',\n",
       " '140317.00',\n",
       " '304023.65',\n",
       " '577865.90',\n",
       " '-26.72%',\n",
       " 'April',\n",
       " '361108.30',\n",
       " '\\xa011418.00\\xa0',\n",
       " '\\xa0372526.30',\n",
       " '\\xa0164703.65',\n",
       " '\\xa0168306.00\\xa0',\n",
       " '333009.65',\n",
       " '\\xa0705535.95',\n",
       " '-1.29%',\n",
       " 'May',\n",
       " '405586.80',\n",
       " '11785.80',\n",
       " '\\xa0417372.60',\n",
       " '168680.75',\n",
       " '\\xa0182751.00',\n",
       " '351431.75',\n",
       " '768804.35',\n",
       " '-3.44%',\n",
       " 'June',\n",
       " '382964.00',\n",
       " '\\xa010401.15',\n",
       " '393365.15',\n",
       " '\\xa0147563.25',\n",
       " '\\xa0182212.75\\xa0',\n",
       " '329776.00',\n",
       " '723141.15',\n",
       " '-1.08%',\n",
       " 'July',\n",
       " '438164.55',\n",
       " '16517.05',\n",
       " '454681.60',\n",
       " '\\xa0167991.75',\n",
       " '\\xa0210894.50',\n",
       " '378886.25',\n",
       " '833567.85',\n",
       " '4.61%',\n",
       " 'August',\n",
       " '420573.25',\n",
       " '20103.15',\n",
       " '440676.40',\n",
       " '162465.50',\n",
       " '223496.50',\n",
       " '385962.00',\n",
       " '826638.40',\n",
       " '-2.50%',\n",
       " 'September',\n",
       " '414281.50',\n",
       " '17028.90',\n",
       " '431310.40',\n",
       " '146999.50',\n",
       " '222954.25',\n",
       " '369953.75',\n",
       " '801264.15',\n",
       " '4.91%',\n",
       " 'October',\n",
       " '485823.55',\n",
       " '18564.30',\n",
       " '504387.85',\n",
       " '173823.90',\n",
       " '274342.00',\n",
       " '448165.90',\n",
       " '952553.75',\n",
       " '27.22%',\n",
       " 'November',\n",
       " '422792.65',\n",
       " '17173.50',\n",
       " '439966.15',\n",
       " '152527.00',\n",
       " '239837.75',\n",
       " '392364.75',\n",
       " '832330.90',\n",
       " '-9.94%',\n",
       " 'December',\n",
       " '468905.85',\n",
       " '13447.40',\n",
       " '482353.25',\n",
       " '147965.40',\n",
       " '272939.50',\n",
       " '420904.90',\n",
       " '903258.15',\n",
       " '15.92%',\n",
       " '4870582.00',\n",
       " '164711.65',\n",
       " '5035293.65',\n",
       " '1904053.85',\n",
       " '2519401.00',\n",
       " '4423454.85',\n",
       " '9458748.50',\n",
       " '1.24%',\n",
       " '4690848.55\\xa0\\xa0',\n",
       " '131200.45',\n",
       " '4822049.00',\n",
       " '1869837.30',\n",
       " '2477893.45',\n",
       " '\\xa04347730.75',\n",
       " '9169779.75',\n",
       " '\\xa0-0.39%',\n",
       " '2650541.35',\n",
       " '102834.30',\n",
       " '2753375.65',\n",
       " '951773.05',\n",
       " '1444464.50',\n",
       " '2396237.55',\n",
       " '5149613.20',\n",
       " '5.95%']"
      ]
     },
     "execution_count": 54,
     "metadata": {},
     "output_type": "execute_result"
    }
   ],
   "source": [
    "data_2018"
   ]
  },
  {
   "cell_type": "code",
   "execution_count": 57,
   "metadata": {
    "scrolled": true
   },
   "outputs": [
    {
     "data": {
      "text/plain": [
       "['422831.95',\n",
       " '9296.80',\n",
       " '432128.75',\n",
       " '150035.25',\n",
       " '226564.50',\n",
       " '376599.75',\n",
       " '808728.50']"
      ]
     },
     "execution_count": 57,
     "metadata": {},
     "output_type": "execute_result"
    }
   ],
   "source": [
    "# January\n",
    "data_2018[1:8]"
   ]
  },
  {
   "cell_type": "code",
   "execution_count": 58,
   "metadata": {},
   "outputs": [
    {
     "data": {
      "text/plain": [
       "['383089.55',\n",
       " '9593.40',\n",
       " '392682.95',\n",
       " '157591.25',\n",
       " '174785.25',\n",
       " '332376.50',\n",
       " '725059.45']"
      ]
     },
     "execution_count": 58,
     "metadata": {},
     "output_type": "execute_result"
    }
   ],
   "source": [
    "# February\n",
    "data_2018[10:17]"
   ]
  },
  {
   "cell_type": "code",
   "execution_count": 62,
   "metadata": {},
   "outputs": [
    {
     "data": {
      "text/plain": [
       "['422792.65',\n",
       " '17173.50',\n",
       " '439966.15',\n",
       " '152527.00',\n",
       " '239837.75',\n",
       " '392364.75',\n",
       " '832330.90']"
      ]
     },
     "execution_count": 62,
     "metadata": {},
     "output_type": "execute_result"
    }
   ],
   "source": [
    "# November\n",
    "data_2018[91:98]"
   ]
  },
  {
   "cell_type": "code",
   "execution_count": 66,
   "metadata": {},
   "outputs": [],
   "source": [
    "# Assuming the same pattern will be met for each page, we can write up monthly indexes:\n",
    "Jan = (1,8)\n",
    "Feb = (10,17)\n",
    "Mar = (19,26)\n",
    "Apr = (28,35)\n",
    "May = (37,44)\n",
    "Jun = (46,53)\n",
    "Jul = (55,62)\n",
    "Aug = (64,71)\n",
    "Sep = (73,80)\n",
    "Oct = (82,89)\n",
    "Nov = (91,98)\n",
    "Dec = (100,107)"
   ]
  },
  {
   "cell_type": "code",
   "execution_count": 76,
   "metadata": {},
   "outputs": [],
   "source": [
    "months = [Jan, Feb, Mar, Apr, May, Jun, Jul, Aug, Sep, Oct, Nov, Dec]"
   ]
  },
  {
   "cell_type": "code",
   "execution_count": 67,
   "metadata": {},
   "outputs": [],
   "source": [
    "url_begin = 'https://www.portoflosangeles.org/business/statistics/container-statistics/historical-teu-statistics-'"
   ]
  },
  {
   "cell_type": "code",
   "execution_count": 68,
   "metadata": {},
   "outputs": [],
   "source": [
    "# Try for 2017:\n",
    "url2017 = url_begin+'2017'"
   ]
  },
  {
   "cell_type": "code",
   "execution_count": 69,
   "metadata": {},
   "outputs": [],
   "source": [
    "from requests_html import HTMLSession\n",
    "session = HTMLSession()\n",
    "\n",
    "r = session.get(url2017)"
   ]
  },
  {
   "cell_type": "code",
   "execution_count": 70,
   "metadata": {},
   "outputs": [],
   "source": [
    "soup_tree= BeautifulSoup(r.html.raw_html, 'html.parser')"
   ]
  },
  {
   "cell_type": "code",
   "execution_count": 71,
   "metadata": {},
   "outputs": [],
   "source": [
    "data_html2017 = soup_tree.find_all('td')"
   ]
  },
  {
   "cell_type": "code",
   "execution_count": 72,
   "metadata": {},
   "outputs": [],
   "source": [
    "data_2017 = [(item.contents[0].string) for item in data_html2017[9:]]"
   ]
  },
  {
   "cell_type": "code",
   "execution_count": 73,
   "metadata": {},
   "outputs": [],
   "source": [
    "for i,item in enumerate(data_2017):\n",
    "    if item == '\\n':\n",
    "        data_2017.pop(i)"
   ]
  },
  {
   "cell_type": "code",
   "execution_count": 74,
   "metadata": {},
   "outputs": [],
   "source": [
    "for i,item in enumerate(data_2017):\n",
    "    if ',' in item:\n",
    "        data_2017[i] = item.replace(',','')"
   ]
  },
  {
   "cell_type": "code",
   "execution_count": 45,
   "metadata": {},
   "outputs": [
    {
     "data": {
      "text/plain": [
       "['January',\n",
       " '415422.70',\n",
       " '12974.60',\n",
       " '428397.30',\n",
       " '162420.00',\n",
       " '235822.25',\n",
       " '398242.25',\n",
       " '826639.55',\n",
       " '17.35%',\n",
       " 'February',\n",
       " '298974.95',\n",
       " '9606.80',\n",
       " '308581.75',\n",
       " '155357.65',\n",
       " '161441.75',\n",
       " '316799.40',\n",
       " '625381.15',\n",
       " '-12.38%',\n",
       " 'March',\n",
       " '373548.95',\n",
       " '12088.00',\n",
       " '385636.95',\n",
       " '191771.75',\n",
       " '211115.00',\n",
       " '402886.75',\n",
       " '788523.70',\n",
       " '28.66%',\n",
       " 'April',\n",
       " '372040.90',\n",
       " '9475.75',\n",
       " '381516.65',\n",
       " '157661.50',\n",
       " '175576.90',\n",
       " '333238.40',\n",
       " '714755.05',\n",
       " '8.93%',\n",
       " 'May',\n",
       " '413021.30',\n",
       " '11480.65',\n",
       " '424501.95',\n",
       " '169639.00',\n",
       " '202075.75',\n",
       " '371714.75',\n",
       " '796216.70',\n",
       " '3.35%',\n",
       " 'June',\n",
       " '372272.10',\n",
       " '10511.50',\n",
       " '382783.60',\n",
       " '145527.50',\n",
       " '202721.25',\n",
       " '348248.75',\n",
       " '731032.35',\n",
       " '8.14%',\n",
       " 'July',\n",
       " '417090.75',\n",
       " '10587.20',\n",
       " '427677.95',\n",
       " '154925.75',\n",
       " '214200.30',\n",
       " '369126.05',\n",
       " '796804.00',\n",
       " '15.83%',\n",
       " 'August',\n",
       " '432479.15',\n",
       " '10559.65',\n",
       " '443038.80',\n",
       " '159197.00',\n",
       " '245621.25',\n",
       " '404818.25',\n",
       " '847857.05',\n",
       " '6.12%',\n",
       " 'September',\n",
       " '388670.05',\n",
       " '9696.20',\n",
       " '398366.25',\n",
       " '128445.50',\n",
       " '236972.75',\n",
       " '365418.25',\n",
       " '763784.50',\n",
       " '2.15%',\n",
       " 'October',\n",
       " '383385.00',\n",
       " '14573.70',\n",
       " '397958.70',\n",
       " '144209.75',\n",
       " '206593.75',\n",
       " '350803.50',\n",
       " '748762.20',\n",
       " '-8.08%',\n",
       " 'November',\n",
       " '463690.90',\n",
       " '12097.35',\n",
       " '475788.25',\n",
       " '177913.00',\n",
       " '270524.50',\n",
       " '448437.50',\n",
       " '924225.75',\n",
       " '5.32%',\n",
       " 'December',\n",
       " '385492.05',\n",
       " '11809.00',\n",
       " '397301.05',\n",
       " '152865.50',\n",
       " '229044.40',\n",
       " '381909.90',\n",
       " '779210.95',\n",
       " '-2.18%',\n",
       " '4716088.80',\n",
       " '135460.40',\n",
       " '4851549.20',\n",
       " '1899933.90',\n",
       " '2591709.85',\n",
       " '4491643.75',\n",
       " '9343192.95',\n",
       " '5.49%',\n",
       " '4662881.50',\n",
       " '132547.65',\n",
       " '4795429.15',\n",
       " '1921635.15',\n",
       " '2488691.10',\n",
       " '4410326.25',\n",
       " '9205755.40',\n",
       " '9.72%',\n",
       " '4690848.55',\n",
       " '131200.45',\n",
       " '4822049.00',\n",
       " '1869837.30',\n",
       " '2477893.45',\n",
       " '4347730.75',\n",
       " '9169779.75',\n",
       " '-0.39%']"
      ]
     },
     "execution_count": 45,
     "metadata": {},
     "output_type": "execute_result"
    }
   ],
   "source": [
    "data_2017"
   ]
  },
  {
   "cell_type": "code",
   "execution_count": 75,
   "metadata": {},
   "outputs": [
    {
     "data": {
      "text/plain": [
       "['298974.95',\n",
       " '9606.80',\n",
       " '308581.75',\n",
       " '155357.65',\n",
       " '161441.75',\n",
       " '316799.40',\n",
       " '625381.15']"
      ]
     },
     "execution_count": 75,
     "metadata": {},
     "output_type": "execute_result"
    }
   ],
   "source": [
    "# Feb\n",
    "data_2017[10:17]"
   ]
  },
  {
   "cell_type": "code",
   "execution_count": 132,
   "metadata": {},
   "outputs": [],
   "source": [
    "num_data_2017 = np.zeros((12,9))"
   ]
  },
  {
   "cell_type": "code",
   "execution_count": 135,
   "metadata": {},
   "outputs": [],
   "source": [
    "yr = 2017\n",
    "for i,month in enumerate(months):\n",
    "    num_data_2017[i][0] = int(yr)\n",
    "    num_data_2017[i][1] = int(i)\n",
    "    for j,num in enumerate(data_2017[month[0]:month[1]]):\n",
    "        num_data_2017[i][j+2] = num"
   ]
  },
  {
   "cell_type": "code",
   "execution_count": 149,
   "metadata": {
    "scrolled": true
   },
   "outputs": [
    {
     "data": {
      "text/plain": [
       "191771.75"
      ]
     },
     "execution_count": 149,
     "metadata": {},
     "output_type": "execute_result"
    }
   ],
   "source": [
    "num_data_2017[2][5]"
   ]
  },
  {
   "cell_type": "code",
   "execution_count": null,
   "metadata": {},
   "outputs": [],
   "source": [
    "# Works for 2017, now can do it across years 1996 - 2018:"
   ]
  },
  {
   "cell_type": "code",
   "execution_count": 143,
   "metadata": {},
   "outputs": [],
   "source": [
    "yrs = [i for i in range(1996,2019)]"
   ]
  },
  {
   "cell_type": "code",
   "execution_count": 146,
   "metadata": {},
   "outputs": [
    {
     "data": {
      "text/plain": [
       "276"
      ]
     },
     "execution_count": 146,
     "metadata": {},
     "output_type": "execute_result"
    }
   ],
   "source": [
    "# Number of rows necessary:"
   ]
  },
  {
   "cell_type": "code",
   "execution_count": 158,
   "metadata": {},
   "outputs": [],
   "source": [
    "# Create empty array to place data:\n",
    "num_data = np.zeros((12*len(yrs),9))\n",
    "\n",
    "# Url starting text:\n",
    "url_begin = 'https://www.portoflosangeles.org/business/statistics/container-statistics/historical-teu-statistics-'\n",
    "\n",
    "for i,yr in enumerate(yrs):\n",
    "    # Set url\n",
    "    url = url_begin + str(yr)\n",
    "    session = HTMLSession()\n",
    "    # get response\n",
    "    r = session.get(url)\n",
    "    time.sleep(2)\n",
    "    # Parse html\n",
    "    soup_tree= BeautifulSoup(r.html.raw_html, 'html.parser')\n",
    "    data_html = soup_tree.find_all('td')\n",
    "    # Convert to data list\n",
    "    data = [(item.contents[0].string) for item in data_html[9:]]\n",
    "    # Get rid of '\\n'\n",
    "    for m,item in enumerate(data):\n",
    "        if item == '\\n':\n",
    "            data.pop(m)\n",
    "    # Get rid of commas in numbers\n",
    "    for m,item in enumerate(data):\n",
    "        if ',' in item:\n",
    "            data[m] = item.replace(',','')\n",
    "    # Run through months and save data\n",
    "    for j,month in enumerate(months):\n",
    "        num_data[(i*12)+j][0] = yr\n",
    "        num_data[(i*12)+j][1] = j\n",
    "        for k,num in enumerate(data[month[0]:month[1]]):\n",
    "            num_data[(i*12)+j][k+2] = num"
   ]
  },
  {
   "cell_type": "code",
   "execution_count": 162,
   "metadata": {
    "scrolled": true
   },
   "outputs": [],
   "source": [
    "df_cont = pd.DataFrame(num_data)"
   ]
  },
  {
   "cell_type": "code",
   "execution_count": 165,
   "metadata": {},
   "outputs": [],
   "source": [
    "df_cont.columns = ['Year','Month','Loaded Imports','Empty Imports','Total Imports','Loaded Exports','Empty Exports','Total Exports','Total TEUs']"
   ]
  },
  {
   "cell_type": "code",
   "execution_count": 193,
   "metadata": {
    "scrolled": false
   },
   "outputs": [
    {
     "data": {
      "image/png": "[encoded data removed]",
      "text/plain": [
       "<Figure size 504x432 with 1 Axes>"
      ]
     },
     "metadata": {
      "needs_background": "light"
     },
     "output_type": "display_data"
    },
    {
     "data": {
      "image/png": "[encoded data removed]",
      "text/plain": [
       "<Figure size 504x432 with 1 Axes>"
      ]
     },
     "metadata": {
      "needs_background": "light"
     },
     "output_type": "display_data"
    },
    {
     "data": {
      "image/png": "[encoded data removed]",
      "text/plain": [
       "<Figure size 504x432 with 1 Axes>"
      ]
     },
     "metadata": {
      "needs_background": "light"
     },
     "output_type": "display_data"
    },
    {
     "data": {
      "image/png": "[encoded data removed]",
      "text/plain": [
       "<Figure size 504x432 with 1 Axes>"
      ]
     },
     "metadata": {
      "needs_background": "light"
     },
     "output_type": "display_data"
    },
    {
     "data": {
      "image/png": "[encoded data removed]",
      "text/plain": [
       "<Figure size 504x432 with 1 Axes>"
      ]
     },
     "metadata": {
      "needs_background": "light"
     },
     "output_type": "display_data"
    },
    {
     "data": {
      "image/png": "[encoded data removed]",
      "text/plain": [
       "<Figure size 504x432 with 1 Axes>"
      ]
     },
     "metadata": {
      "needs_background": "light"
     },
     "output_type": "display_data"
    },
    {
     "data": {
      "image/png": "[encoded data removed]",
      "text/plain": [
       "<Figure size 504x432 with 1 Axes>"
      ]
     },
     "metadata": {
      "needs_background": "light"
     },
     "output_type": "display_data"
    }
   ],
   "source": [
    "def plot_yr(yr):\n",
    "    plt.figure(figsize=(7,6))\n",
    "    plt.plot(df_cont.loc[df_cont['Year']==yr,'Total TEUs'])\n",
    "    plt.title(str(yr))\n",
    "    plt.ylabel('Total TEUs (Containers)')\n",
    "    plt.show()\n",
    "\n",
    "for i in range(2012,2019):\n",
    "    plot_yr(i)"
   ]
  },
  {
   "cell_type": "code",
   "execution_count": null,
   "metadata": {},
   "outputs": [],
   "source": []
  }
 ],
 "metadata": {
  "kernelspec": {
   "display_name": "Python 3",
   "language": "python",
   "name": "python3"
  },
  "language_info": {
   "codemirror_mode": {
    "name": "ipython",
    "version": 3
   },
   "file_extension": ".py",
   "mimetype": "text/x-python",
   "name": "python",
   "nbconvert_exporter": "python",
   "pygments_lexer": "ipython3",
   "version": "3.6.6"
  }
 },
 "nbformat": 4,
 "nbformat_minor": 2
}
